{
 "cells": [
  {
   "cell_type": "code",
   "execution_count": 1,
   "id": "about-prison",
   "metadata": {},
   "outputs": [],
   "source": [
    "####################################################################################################################\n",
    "#                              Linear Regression applied on the \"Koblenz Dataset\"                                  #\n",
    "#          (https://nbviewer.jupyter.org/github/isc-konstanz/household_data/blob/2020-04-15/main.ipynb)            #\n",
    "#                                                                                                                   #\n",
    "#                                                                                                                  #\n",
    "#                                              Following this example:                                             #\n",
    "#              https://towardsdatascience.com/introduction-to-linear-regression-in-python-c12a072bedf0             #\n",
    "#                                    (also the images included are from the above source)                          #\n",
    "#                                                                                                                  #\n",
    "\n",
    "#                                     Ronald Siebes, VU Amsterdam, May 30th, 2021   \n",
    "#                                         http://interconnect-project.eu                                           #\n",
    "####################################################################################################################"
   ]
  },
  {
   "cell_type": "markdown",
   "id": "specialized-extra",
   "metadata": {},
   "source": [
    "\n",
    "![Green lines show the difference between actual values Y and estimate values Yₑ](ordinary-least-squares.png \"Ordinary Least Squares\") </center>\n",
    "\n",
    "Green lines show the difference between actual values Y and estimate values Yₑ\n",
    "<br/>\n",
    "    Yₑ = α + β X\n",
    " \n",
    "<br/>\n",
    "\n",
    "![](alpha-beta.gif \"Equation\") \n",
    "\n",
    "    "
   ]
  },
  {
   "cell_type": "code",
   "execution_count": 1,
   "id": "optimum-kazakhstan",
   "metadata": {},
   "outputs": [],
   "source": [
    "# Import the libraries to load, manipulate and visualize data \n",
    "\n",
    "import pandas as pd\n",
    "import numpy as np\n",
    "from matplotlib import pyplot as plt"
   ]
  },
  {
   "cell_type": "code",
   "execution_count": 2,
   "id": "indoor-keeping",
   "metadata": {},
   "outputs": [
    {
     "data": {
      "text/html": [
       "<div>\n",
       "<style scoped>\n",
       "    .dataframe tbody tr th:only-of-type {\n",
       "        vertical-align: middle;\n",
       "    }\n",
       "\n",
       "    .dataframe tbody tr th {\n",
       "        vertical-align: top;\n",
       "    }\n",
       "\n",
       "    .dataframe thead th {\n",
       "        text-align: right;\n",
       "    }\n",
       "</style>\n",
       "<table border=\"1\" class=\"dataframe\">\n",
       "  <thead>\n",
       "    <tr style=\"text-align: right;\">\n",
       "      <th></th>\n",
       "      <th>EnergyConsumption</th>\n",
       "      <th>OutdoorTemp</th>\n",
       "    </tr>\n",
       "  </thead>\n",
       "  <tbody>\n",
       "    <tr>\n",
       "      <th>0</th>\n",
       "      <td>4.65</td>\n",
       "      <td>9.96</td>\n",
       "    </tr>\n",
       "    <tr>\n",
       "      <th>1</th>\n",
       "      <td>4.58</td>\n",
       "      <td>10.25</td>\n",
       "    </tr>\n",
       "    <tr>\n",
       "      <th>2</th>\n",
       "      <td>4.06</td>\n",
       "      <td>8.50</td>\n",
       "    </tr>\n",
       "    <tr>\n",
       "      <th>3</th>\n",
       "      <td>5.34</td>\n",
       "      <td>8.96</td>\n",
       "    </tr>\n",
       "    <tr>\n",
       "      <th>4</th>\n",
       "      <td>3.31</td>\n",
       "      <td>9.00</td>\n",
       "    </tr>\n",
       "  </tbody>\n",
       "</table>\n",
       "</div>"
      ],
      "text/plain": [
       "   EnergyConsumption  OutdoorTemp\n",
       "0               4.65         9.96\n",
       "1               4.58        10.25\n",
       "2               4.06         8.50\n",
       "3               5.34         8.96\n",
       "4               3.31         9.00"
      ]
     },
     "execution_count": 2,
     "metadata": {},
     "output_type": "execute_result"
    }
   ],
   "source": [
    "# Import the CSV data of 'pump6'\n",
    "\n",
    "pumpData = pd.read_csv(\"pump6-daily.csv\") #choose one\n",
    "# Show the first five rows of our dataframe\n",
    "pumpData.head()"
   ]
  },
  {
   "cell_type": "code",
   "execution_count": 5,
   "id": "immune-image",
   "metadata": {},
   "outputs": [
    {
     "name": "stdout",
     "output_type": "stream",
     "text": [
      "alpha = 5.832974431316357\n",
      "beta = -0.1538598312717606\n"
     ]
    },
    {
     "data": {
      "text/plain": [
       "0      4.300531\n",
       "1      4.255911\n",
       "2      4.525166\n",
       "3      4.454390\n",
       "4      4.448236\n",
       "         ...   \n",
       "893    4.557476\n",
       "894    4.652870\n",
       "895    4.172827\n",
       "896    3.889725\n",
       "897    3.101962\n",
       "Name: OutdoorTemp, Length: 898, dtype: float64"
      ]
     },
     "execution_count": 5,
     "metadata": {},
     "output_type": "execute_result"
    }
   ],
   "source": [
    "# Calculate the mean of EnergyConsumption and OutdoorTemp\n",
    "outdoorTempMean = np.mean(pumpData['OutdoorTemp'])                # Independent variable (x)\n",
    "energyConsumptionMean = np.mean(pumpData['EnergyConsumption'])    # Dependent variable (y)   \n",
    "\n",
    "# Calculate the terms needed for the numator and denominator of beta\n",
    "pumpData['xycov'] = (pumpData['OutdoorTemp'] - outdoorTempMean) * (pumpData['EnergyConsumption'] - energyConsumptionMean)\n",
    "pumpData['xvar'] = (pumpData['OutdoorTemp'] - outdoorTempMean)**2\n",
    "\n",
    "# Calculate beta and alpha\n",
    "beta = pumpData['xycov'].sum() / pumpData['xvar'].sum()\n",
    "alpha = energyConsumptionMean - (beta * outdoorTempMean)\n",
    "print(f'alpha = {alpha}')\n",
    "print(f'beta = {beta}')\n",
    "\n",
    "ypred = alpha + beta * pumpData['OutdoorTemp']\n",
    "ypred"
   ]
  },
  {
   "cell_type": "code",
   "execution_count": 6,
   "id": "excited-arnold",
   "metadata": {},
   "outputs": [
    {
     "data": {
      "image/png": "[encoded data removed]",
      "text/plain": [
       "<Figure size 864x432 with 1 Axes>"
      ]
     },
     "metadata": {
      "needs_background": "light"
     },
     "output_type": "display_data"
    }
   ],
   "source": [
    "# Plot regression against actual data\n",
    "plt.figure(figsize=(12, 6))\n",
    "plt.plot(pumpData['OutdoorTemp'], ypred, color='green')     # regression line\n",
    "plt.plot(pumpData['OutdoorTemp'], pumpData['EnergyConsumption'], 'ro', color='blue')   # scatter plot showing actual data\n",
    "plt.title('Actual vs Predicted energy consumption for the selected pump given the outdoor temperature')\n",
    "plt.xlabel('OutdoorTemp')\n",
    "plt.ylabel('EnergyConsumption')\n",
    "\n",
    "plt.show()"
   ]
  },
  {
   "cell_type": "code",
   "execution_count": null,
   "id": "extensive-prototype",
   "metadata": {},
   "outputs": [],
   "source": []
  },
  {
   "cell_type": "code",
   "execution_count": null,
   "id": "neutral-burke",
   "metadata": {},
   "outputs": [],
   "source": []
  },
  {
   "cell_type": "code",
   "execution_count": null,
   "id": "stylish-melbourne",
   "metadata": {},
   "outputs": [],
   "source": []
  }
 ],
 "metadata": {
  "kernelspec": {
   "display_name": "Python 3 (ipykernel)",
   "language": "python",
   "name": "python3"
  },
  "language_info": {
   "codemirror_mode": {
    "name": "ipython",
    "version": 3
   },
   "file_extension": ".py",
   "mimetype": "text/x-python",
   "name": "python",
   "nbconvert_exporter": "python",
   "pygments_lexer": "ipython3",
   "version": "3.9.7"
  }
 },
 "nbformat": 4,
 "nbformat_minor": 5
}
